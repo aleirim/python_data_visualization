{
  "nbformat": 4,
  "nbformat_minor": 0,
  "metadata": {
    "colab": {
      "name": "geodata_plotly.ipynb",
      "provenance": [],
      "collapsed_sections": [],
      "authorship_tag": "ABX9TyOXH8jYO+XOH18s9th6LTNl"
    },
    "kernelspec": {
      "name": "python3",
      "display_name": "Python 3"
    },
    "language_info": {
      "name": "python"
    }
  },
  "cells": [
    {
      "cell_type": "markdown",
      "source": [
        "##**Introduction to geodata visualization with plotly express**\n",
        "\n",
        "**Documentation**: https://plotly.com/python/plotly-express/ \n",
        "\n",
        "**Installation**:\n",
        "\n",
        "`$ pip install plotly==5.6.0`\n",
        "\n",
        "*OR*\n",
        "\n",
        "`$ conda install -c plotly plotly=5.6.0`\n",
        "\n",
        "\n",
        "\n",
        "<br>\n",
        "\n",
        "*Open the notebook in **GoogleColab** to check the outputs!*.\n",
        "\n",
        "[![Open In Colab](https://colab.research.google.com/assets/colab-badge.svg)](https://colab.research.google.com/drive/105THGnjRyWij4IsCEoRtMlsBL3O-h7lK?usp=sharing)\n"
      ],
      "metadata": {
        "id": "6MVkdtBEyS6l"
      }
    },
    {
      "cell_type": "code",
      "source": [
        "import plotly.express as px"
      ],
      "metadata": {
        "id": "sfYDieIn9_F6"
      },
      "execution_count": null,
      "outputs": []
    },
    {
      "cell_type": "markdown",
      "source": [
        "**Visualizing Data from Pandas Dataframe in Maps**\n",
        "\n",
        "Sample dataset:"
      ],
      "metadata": {
        "id": "AUfEA7SXzHcC"
      }
    },
    {
      "cell_type": "code",
      "source": [
        "# loading sample dataset\n",
        "import pandas as pd\n",
        "\n",
        "ga_data = pd.read_csv('data/datasets/georgia_real_estate.csv')\n",
        "ga_data.head()"
      ],
      "metadata": {
        "id": "ccYeqlde_R4o"
      },
      "execution_count": null,
      "outputs": []
    },
    {
      "cell_type": "markdown",
      "source": [
        "**Scatter Plot**\n",
        "\n",
        "In the scatter plot, each row of the dataframe is represented by a\n",
        "symbol mark on a Mapbox map."
      ],
      "metadata": {
        "id": "I4j_iu7HCdYM"
      }
    },
    {
      "cell_type": "code",
      "source": [
        "# color based on continuous variable\n",
        "fig = px.scatter_mapbox(ga_data, # dataframe\n",
        "                        lat=\"latitude\", # column in the dataframe with latitude data\n",
        "                        lon=\"longitude\", # column in the dataframe with longitude data\n",
        "                        color=\"pricePerSquareFoot\", # (optional) name of a column in the df\n",
        "                        size=\"bedrooms\", # (optional) name of a column in the df, the size of the points are based on this\n",
        "                        color_continuous_scale=px.colors.cyclical.IceFire,\n",
        "                        size_max=15, \n",
        "                        zoom=5,\n",
        "                        mapbox_style=\"carto-positron\")\n",
        "fig.show()"
      ],
      "metadata": {
        "id": "6N_hoVWLCcsT"
      },
      "execution_count": null,
      "outputs": []
    },
    {
      "cell_type": "code",
      "source": [
        "# color based on categorical variable\n",
        "fig = px.scatter_mapbox(ga_data, # dataframe\n",
        "                        lat=\"latitude\", # column in the dataframe with latitude data\n",
        "                        lon=\"longitude\", # column in the dataframe with longitude data\n",
        "                        color=\"homeType\", # (optional) name of a column in the df\n",
        "                        hover_name=\"county\", # (optional) sets text to display when hovering\n",
        "                        color_continuous_scale=px.colors.cyclical.IceFire,\n",
        "                        size_max=15, \n",
        "                        zoom=6,\n",
        "                        mapbox_style=\"carto-positron\",\n",
        "                        )\n",
        "fig.show()"
      ],
      "metadata": {
        "id": "doJ3mhGkFn4T"
      },
      "execution_count": null,
      "outputs": []
    },
    {
      "cell_type": "markdown",
      "source": [
        "<u>Customizing the plot</u>:"
      ],
      "metadata": {
        "id": "MRHZcz6UIIdR"
      }
    },
    {
      "cell_type": "code",
      "source": [
        "# customizing size, opacity, mapbox style, color, center, and margins\n",
        "fig = px.scatter_mapbox(ga_data, \n",
        "                        lat=\"latitude\", \n",
        "                        lon=\"longitude\", \n",
        "                        color=\"pricePerSquareFoot\", \n",
        "                        size=\"bedrooms\",\n",
        "                        hover_name=\"county\", \n",
        "                        color_continuous_scale=px.colors.cyclical.Twilight, # find available options here: https://plotly.com/python/builtin-colorscales/\n",
        "                        size_max=15, \n",
        "                        zoom=6,\n",
        "                        mapbox_style=\"stamen-terrain\", # ex: \"open-street-map\", \"carto-positron\", \"carto-darkmatter\", \"stamen-terrain\", \"stamen-toner\" or \"stamen-watercolor\" \n",
        "                        opacity=0.5, # 0 <= value <= 1\n",
        "                        width=700, # in px\n",
        "                        height=700, # in px\n",
        "                        center={\"lat\":33.7956,\"lon\":-84.2279},\n",
        "                        )\n",
        "\n",
        "# customizing the margins\n",
        "fig.update_layout(margin={\"r\":0,\"t\":0,\"l\":0,\"b\":0})\n",
        "\n",
        "fig.show()"
      ],
      "metadata": {
        "id": "WqM3ZDhBILTz"
      },
      "execution_count": null,
      "outputs": []
    },
    {
      "cell_type": "markdown",
      "source": [
        "<u>Adding animation</u>"
      ],
      "metadata": {
        "id": "ps4cB2fl9TK2"
      }
    },
    {
      "cell_type": "code",
      "source": [
        "fig = px.scatter_mapbox(ga_data,\n",
        "                        lat=\"latitude\", \n",
        "                        lon=\"longitude\",\n",
        "                        color=\"pricePerSquareFoot\",\n",
        "                        size=\"bedrooms\",\n",
        "                        color_continuous_scale=px.colors.cyclical.IceFire,\n",
        "                        size_max=15, \n",
        "                        zoom=5,\n",
        "                        mapbox_style=\"carto-positron\",\n",
        "                        animation_frame=\"homeType\", \n",
        "                        #animation_group=\"city\"\n",
        "                      )\n",
        "fig.show()"
      ],
      "metadata": {
        "id": "EqG_Cn7iXQXg"
      },
      "execution_count": null,
      "outputs": []
    },
    {
      "cell_type": "markdown",
      "source": [
        "**Choropleth Plot**\n",
        "\n",
        "Map composed of colored polygons."
      ],
      "metadata": {
        "id": "Ypd0PYG-DDcD"
      }
    },
    {
      "cell_type": "code",
      "source": [
        "# let's use geopandas to examine the content of the geojson file that will be used\n",
        "#!pip install geopandas"
      ],
      "metadata": {
        "id": "g1nmJOLA__Ku"
      },
      "execution_count": null,
      "outputs": []
    },
    {
      "cell_type": "code",
      "source": [
        "# loading a geojson file of Georgia State\n",
        "# source: https://maps.princeton.edu/catalog/tufts-gacounties10\n",
        "\n",
        "import geopandas as gpd\n",
        "\n",
        "# path to the file\n",
        "ga_counties = f\"data/geo_data/gacounties10-geojson.json\"\n",
        "\n",
        "# let's check the content of the geo file using geopandas:\n",
        "gageo_df = gpd.read_file(ga_counties)\n",
        "gageo_df.head()"
      ],
      "metadata": {
        "id": "u5HrR5JS_Xc_"
      },
      "execution_count": null,
      "outputs": []
    },
    {
      "cell_type": "markdown",
      "source": [
        "In this case the geojson file that I want to use does not have a county ID that I can use. What I want to do is mapping the dataframe's **county** column to the geojson's **namelsad10** field, which can be accessed with *properties.namelsad10*"
      ],
      "metadata": {
        "id": "05CeVY5gRNdw"
      }
    },
    {
      "cell_type": "code",
      "source": [
        "# color based on continuous variable\n",
        "fig = px.choropleth_mapbox(ga_data, \n",
        "                           geojson=gageo_df, \n",
        "                           locations='county', # column in the df  that will be mapped to a field in the the geojson file\n",
        "                           featureidkey=\"properties.namelsad10\", # this param is used when the geojson ID field cannot be used or when we want to use one of the keys in the properties field\n",
        "                                                                 # if omitted, then the geojson ID field is mapped to <locations>\n",
        "                           color='pricePerSquareFoot',\n",
        "                           color_continuous_scale=\"Viridis\",\n",
        "                           #range_color=(0, 200), # (optional) setting range for the values in <color>\n",
        "                           mapbox_style=\"carto-positron\",\n",
        "                           zoom=6, \n",
        "                           center = {\"lat\":33.7956,\"lon\":-84.2279},\n",
        "                           opacity=0.5,\n",
        "                           labels={'pricePerSquareFoot':'Price per Square Foot'} # (optional)\n",
        "                          )\n",
        "\n",
        "fig.update_layout(margin={\"r\":0,\"t\":0,\"l\":0,\"b\":0})\n",
        "fig.show()"
      ],
      "metadata": {
        "id": "U6_C1sVmahmL"
      },
      "execution_count": null,
      "outputs": []
    },
    {
      "cell_type": "code",
      "source": [
        "# color based on categorical variable\n",
        "df = ga_data.iloc[:50] #let's plot only based on the first 50 rows\n",
        "fig = px.choropleth_mapbox(df, \n",
        "                           geojson=gageo_df, \n",
        "                           locations='county', \n",
        "                           featureidkey=\"properties.namelsad10\", \n",
        "                           color='city',\n",
        "                           mapbox_style=\"carto-positron\",\n",
        "                           zoom=6, \n",
        "                           center = {\"lat\":32.8263,\"lon\":-82.7251}\n",
        "                          )\n",
        "fig.update_layout(margin={\"r\":0,\"t\":0,\"l\":0,\"b\":0})\n",
        "fig.show()"
      ],
      "metadata": {
        "id": "EIMRhzJXVjDt"
      },
      "execution_count": null,
      "outputs": []
    },
    {
      "cell_type": "markdown",
      "source": [
        "**Density Plot**"
      ],
      "metadata": {
        "id": "7hIL_NBRlKki"
      }
    },
    {
      "cell_type": "code",
      "source": [
        "fig = px.density_mapbox(ga_data, \n",
        "                        lat='latitude', \n",
        "                        lon='longitude', \n",
        "                        z='pricePerSquareFoot', \n",
        "                        radius=15,\n",
        "                        center= {\"lat\":33.7956,\"lon\":-84.2279}, \n",
        "                        zoom=6,\n",
        "                        mapbox_style=\"stamen-terrain\")\n",
        "\n",
        "fig.update_layout(margin={\"r\":0,\"t\":0,\"l\":0,\"b\":0})\n",
        "fig.show()"
      ],
      "metadata": {
        "id": "1_cny1zElNHf"
      },
      "execution_count": null,
      "outputs": []
    },
    {
      "cell_type": "markdown",
      "source": [
        "**Plotting Lines**"
      ],
      "metadata": {
        "id": "EpUwRHGZd4ap"
      }
    },
    {
      "cell_type": "code",
      "source": [
        "df = ga_data.query(\"county in ['Troup County', 'Spalding County', 'Meriwether County']\")\n",
        "fig = px.line_mapbox(df, \n",
        "                     lat=\"latitude\", \n",
        "                     lon=\"longitude\", \n",
        "                     color=\"county\", \n",
        "                     mapbox_style=\"carto-positron\",\n",
        "                     zoom=10,\n",
        "                     center = {\"lat\":33.14315,\"lon\":-84.76554}\n",
        "                    )\n",
        "\n",
        "fig.update_layout(margin={\"r\":0,\"t\":0,\"l\":0,\"b\":0})\n",
        "\n",
        "fig.show()"
      ],
      "metadata": {
        "id": "JeH5kCpSd42h"
      },
      "execution_count": null,
      "outputs": []
    },
    {
      "cell_type": "markdown",
      "source": [
        "**What if we want to visualize locations without a dataframe?**"
      ],
      "metadata": {
        "id": "-EIXBITTsWJF"
      }
    },
    {
      "cell_type": "code",
      "source": [
        "# location by lat and lon\n",
        "fig = px.scatter_mapbox(lat=[49.8874, 49.8845], # array of latitudes\n",
        "                        lon=[-97.1318, -97.1988], # array of longitudes                   \n",
        "                        zoom=10,\n",
        "                        mapbox_style=\"carto-positron\",\n",
        "                        hover_name=[\"The Forks, Winnipeg\", \"Polo Park, Winnipeg\"], # array of text to display when hovering\n",
        "                        center={\"lat\": 49.8874, \"lon\":-97.1491}\n",
        "                        )\n",
        "fig.show()"
      ],
      "metadata": {
        "id": "wwXp9R1EMhE8"
      },
      "execution_count": null,
      "outputs": []
    },
    {
      "cell_type": "markdown",
      "source": [
        "**Exporting interactive HTMLs**"
      ],
      "metadata": {
        "id": "KL65I9_vvWfl"
      }
    },
    {
      "cell_type": "code",
      "source": [
        "# saving the maps as interactive HTML files\n",
        "fig.write_html(\"map_plotly.html\")"
      ],
      "metadata": {
        "id": "Ob8oZv-ngE0I"
      },
      "execution_count": null,
      "outputs": []
    }
  ]
}