{
  "cells": [
    {
      "cell_type": "markdown",
      "metadata": {
        "id": "0nQvPxMoS1jc"
      },
      "source": [
        "##**Introduction to folium - visualizing data in maps**\n",
        "\n",
        "**Documentation**: https://pypi.org/project/folium/\n",
        "\n",
        "**Installation**:\n",
        "\n",
        "`$ pip install folium`\n",
        "\n",
        "*OR*\n",
        "\n",
        "`$ conda install -c conda-forge folium`\n",
        "\n",
        "\n",
        "\n",
        "<br>\n",
        "\n",
        "*Open the notebook in **GoogleColab** to check the outputs!*.\n",
        "\n",
        "[![Open In Colab](https://colab.research.google.com/assets/colab-badge.svg)](https://colab.research.google.com/drive/1WhfpouOQ-GFmfIkdlrvo83oxWtWjucRZ?usp=sharing)\n"
      ]
    },
    {
      "cell_type": "code",
      "execution_count": null,
      "metadata": {
        "id": "W2j5qFKHSuA1"
      },
      "outputs": [],
      "source": [
        "# installing folium\n",
        "#!pip install folium"
      ]
    },
    {
      "cell_type": "markdown",
      "metadata": {
        "id": "yu0buL5twk8L"
      },
      "source": [
        "**Basic features**"
      ]
    },
    {
      "cell_type": "code",
      "execution_count": null,
      "metadata": {
        "id": "ItjnjW4tTkHM"
      },
      "outputs": [],
      "source": [
        "import folium as fl"
      ]
    },
    {
      "cell_type": "markdown",
      "metadata": {
        "id": "jSbrEbSlw1Y_"
      },
      "source": [
        "1. <u>Specific location using latitude and longitude</u>"
      ]
    },
    {
      "cell_type": "code",
      "execution_count": null,
      "metadata": {
        "id": "P1o9C2s6TThI"
      },
      "outputs": [],
      "source": [
        "# visualizing a specific location using latitude and longitude (Winnipeg in this case)\n",
        "map = fl.Map(width=500,height=500, location=[49.8951, -97.1384], zoom_start=12)\n",
        "# tiles are set to OpenStreetMap by default but several are built-in\n",
        "# maps are generated in large size, use width and height to customize it\n",
        "map"
      ]
    },
    {
      "cell_type": "markdown",
      "metadata": {
        "id": "-_UBD6z7xAVJ"
      },
      "source": [
        "2. <u>Adding markers</u>"
      ]
    },
    {
      "cell_type": "code",
      "execution_count": null,
      "metadata": {
        "id": "V45mKdReagIA"
      },
      "outputs": [],
      "source": [
        "# adding markers\n",
        "tooltip = \"Details\"\n",
        "\n",
        "# basic marker\n",
        "fl.Marker([49.8890, -97.1445], popup=\"<i>RBC Convention Centre</i>\", tooltip=tooltip).add_to(map)\n",
        "# marker with icon\n",
        "fl.Marker([49.9098, -97.2365], popup=\"<b>Winnipeg James Armstrong Richardson International Airport</b>\", icon=fl.Icon(color=\"red\"), tooltip=tooltip).add_to(map)\n",
        "map"
      ]
    },
    {
      "cell_type": "markdown",
      "metadata": {
        "id": "0BCeAd_7xF9I"
      },
      "source": [
        "3. <u>Adding circles</u>"
      ]
    },
    {
      "cell_type": "code",
      "execution_count": null,
      "metadata": {
        "id": "vAGXkIEmcZGh"
      },
      "outputs": [],
      "source": [
        "# adding circles\n",
        "fl.Circle(\n",
        "    radius=400,\n",
        "    location=[49.8280, -97.1146],\n",
        "    popup=\"St. Vital Park\",\n",
        "    color=\"red\",\n",
        "    fill=False,\n",
        "    #fill_color=\"#3186cc\",\n",
        ").add_to(map)\n",
        "\n",
        "map"
      ]
    },
    {
      "cell_type": "markdown",
      "metadata": {
        "id": "WBXQ7-3yxJz2"
      },
      "source": [
        "4. <u>Adding layers</u>"
      ]
    },
    {
      "cell_type": "code",
      "execution_count": null,
      "metadata": {
        "id": "XlyBWWq8flaZ"
      },
      "outputs": [],
      "source": [
        "# adding layers\n",
        "\n",
        "# for this, we need the boundaries information, aka polygons.\n",
        "# this files can be found on the Internet in a variety of formats, in this case I found this geojson file \n",
        "# in https://data.winnipeg.ca/City-Planning/Neighbourhood/fen6-iygi\n",
        "\n",
        "# path to the file containing boundaries info\n",
        "wpg_neighborhoods = f\"sample_data/winnipeg_neighbourhood.geojson\"\n",
        "\n",
        "# creating a GeoJSON layer\n",
        "fl.GeoJson(wpg_neighborhoods, name=\"geojson\").add_to(map)\n",
        "fl.LayerControl().add_to(map)\n",
        "\n",
        "map"
      ]
    },
    {
      "cell_type": "markdown",
      "metadata": {
        "id": "3Gcx8okN133x"
      },
      "source": [
        "**Visualizing Data from Pandas Dataframe in Maps**"
      ]
    },
    {
      "cell_type": "code",
      "execution_count": null,
      "metadata": {
        "id": "XM61EPCzUNYl"
      },
      "outputs": [],
      "source": [
        "# loading sample dataset\n",
        "import pandas as pd\n",
        "\n",
        "ga_data = pd.read_csv('sample_data/georgia_real_estate.csv')\n",
        "ga_data.head()"
      ]
    },
    {
      "cell_type": "code",
      "execution_count": null,
      "metadata": {
        "id": "goJoIgiUK7kP"
      },
      "outputs": [],
      "source": [
        "#!pip install geopandas"
      ]
    },
    {
      "cell_type": "code",
      "execution_count": null,
      "metadata": {
        "id": "WACkHENHJmXj"
      },
      "outputs": [],
      "source": [
        "# loading the geojson file\n",
        "# source: https://maps.princeton.edu/catalog/tufts-gacounties10\n",
        "\n",
        "# !pip install geopandas\n",
        "import geopandas as gpd\n",
        "\n",
        "# path to the file\n",
        "ga_counties = f\"sample_data/gacounties10-geojson.json\"\n",
        "\n",
        "# let's check the content of the geo file:\n",
        "gageo_df = gpd.read_file(ga_counties)\n",
        "gageo_df.head()"
      ]
    },
    {
      "cell_type": "code",
      "execution_count": null,
      "metadata": {
        "id": "lI_CTJgqZzvY"
      },
      "outputs": [],
      "source": [
        "# plotting these boundaries\n",
        "map_ga = fl.Map(width=600,height=600, location=[32.1656, -82.9001], zoom_start=7, tiles=\"cartodbpositron\") # georgia lat and lon in location\n",
        "\n",
        "ga_counties = f\"sample_data/gacounties10-geojson.json\"\n",
        "\n",
        "# creating a GeoJSON layer\n",
        "fl.GeoJson(ga_counties, name=\"geojson\").add_to(map_ga)\n",
        "fl.LayerControl().add_to(map_ga)\n",
        "map_ga"
      ]
    },
    {
      "cell_type": "markdown",
      "metadata": {
        "id": "in2tzdMUvo_F"
      },
      "source": [
        "**Plotting the location of specific properties using markers**"
      ]
    },
    {
      "cell_type": "code",
      "execution_count": null,
      "metadata": {
        "id": "B-DrVxyxUNzj"
      },
      "outputs": [],
      "source": [
        "# plotting properties with price > 30,000\n",
        "def add_marker_high_price(m, row):\n",
        "  if(row.price > 30000):\n",
        "    pp = \"County: %s Address: %s Price: %g\" %(row.county, row.streetAddress, row.price)\n",
        "    fl.Marker([row.latitude, row.longitude], popup=pp, icon=fl.Icon(color=\"red\", icon='home', prefix='fa'), tooltip=\"Details\").add_to(m)\n",
        "\n",
        "# available icons for markers can be found here: https://fontawesome.com/v4/icons/\n",
        "\n",
        "ga_data.apply(lambda row: add_marker_high_price(map_ga, row), axis=1)\n",
        "map_ga"
      ]
    },
    {
      "cell_type": "markdown",
      "metadata": {
        "id": "W1LXOazTv8XX"
      },
      "source": [
        "**Folium Choropleth**"
      ]
    },
    {
      "cell_type": "code",
      "execution_count": null,
      "metadata": {
        "colab": {
          "background_save": true
        },
        "id": "IsfEwAA1z6FR"
      },
      "outputs": [],
      "source": [
        "# plotting according to polygons\n",
        "# in this case, let's analyze the price range per county\n",
        "\n",
        "map_ga_1 = fl.Map(width=600,height=600, location=[32.1656, -82.9001], zoom_start=7, tiles=\"cartodbpositron\")\n",
        "bins = list(ga_data[\"price\"].quantile([0, 0.25, 0.5, 0.75, 1]))\n",
        "\n",
        "fl.Choropleth(\n",
        "    geo_data=ga_counties, # file with geo data\n",
        "    name=\"choropleth\",\n",
        "    data=ga_data, # pandas dataframe with the data to be plotted\n",
        "    columns=[\"county\", \"price\"], # first column is the key, second is the value to be plotted\n",
        "    key_on=\"feature.properties.namelsad10\", # field from the geo data file to be matched with the key above\n",
        "    fill_color=\"BuPu\",\n",
        "    fill_opacity=0.5,\n",
        "    line_opacity=0.2,\n",
        "    legend_name=\"Price\",\n",
        "    bins=bins, # default 6\n",
        "    highlight=True,\n",
        ").add_to(map_ga_1)\n",
        "\n",
        "fl.LayerControl().add_to(map_ga_1)\n",
        "\n",
        "map_ga_1"
      ]
    },
    {
      "cell_type": "markdown",
      "metadata": {
        "id": "1J1h_F27wTKT"
      },
      "source": [
        "**Folium Heatmap**"
      ]
    },
    {
      "cell_type": "code",
      "execution_count": null,
      "metadata": {
        "id": "3czAbatX7zGa"
      },
      "outputs": [],
      "source": [
        "from folium.plugins import HeatMap\n",
        "\n",
        "# initializing map\n",
        "heat_map = fl.Map(width=500,height=500, location=[32.1656, -82.9001], zoom_start=7, tiles=\"Stamen Toner\")\n",
        "\n",
        "# folium hetmaps require a list of points of the form [lat, lng] or [lat, lng, weight])\n",
        "heat_data = [[row['latitude'],row['longitude']] for index, row in ga_data.iterrows()]\n",
        "# adding heatmap layer to the map\n",
        "HeatMap(heat_data).add_to(heat_map)\n",
        "heat_map"
      ]
    },
    {
      "cell_type": "code",
      "execution_count": null,
      "metadata": {
        "colab": {
          "background_save": true
        },
        "id": "mSdRz46xz5sf"
      },
      "outputs": [],
      "source": [
        "# saving maps: results in an HTML file that allows interactive visualization\n",
        "map_ga_1.save(\"map_georgia.html\")"
      ]
    }
  ],
  "metadata": {
    "colab": {
      "collapsed_sections": [],
      "name": "geodata_folium.ipynb",
      "provenance": []
    },
    "kernelspec": {
      "display_name": "Python 3",
      "name": "python3"
    },
    "language_info": {
      "name": "python"
    }
  },
  "nbformat": 4,
  "nbformat_minor": 0
}